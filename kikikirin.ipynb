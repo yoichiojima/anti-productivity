{
 "cells": [
  {
   "cell_type": "code",
   "execution_count": 21,
   "id": "32e2d40c-485f-4868-8676-e7940e090e62",
   "metadata": {},
   "outputs": [],
   "source": [
    "import os\n",
    "from typing import List\n",
    "import pandas as pd\n",
    "from matplotlib import font_manager\n",
    "import matplotlib.pyplot as plt\n",
    "import seaborn as sns\n",
    "from pathlib import Path"
   ]
  },
  {
   "cell_type": "code",
   "execution_count": 22,
   "id": "7a0d4f8a-280c-4371-96e1-69fda18534b3",
   "metadata": {},
   "outputs": [],
   "source": [
    "def find_font_in_home() -> List[str]:\n",
    "    return font_manager.findSystemFonts(os.path.join(str(Path.home()), \".fonts\"))"
   ]
  },
  {
   "cell_type": "code",
   "execution_count": 23,
   "id": "26e8df04-7990-42c1-9f8c-4269a13b7f80",
   "metadata": {},
   "outputs": [],
   "source": [
    "for font_file in find_font_in_home():\n",
    "    font_manager.fontManager.addfont(font_file)"
   ]
  },
  {
   "cell_type": "code",
   "execution_count": 24,
   "id": "ee29ebf2-4e0b-4455-a43c-b535d28f0ebc",
   "metadata": {
    "editable": true,
    "slideshow": {
     "slide_type": ""
    },
    "tags": []
   },
   "outputs": [],
   "source": [
    "sns.set(font = \"Noto Sans CJK JP\")"
   ]
  },
  {
   "cell_type": "code",
   "execution_count": 39,
   "id": "33c420f7-9c9d-4af1-9440-e613d896d0db",
   "metadata": {},
   "outputs": [
    {
     "data": {
      "text/html": [
       "<div>\n",
       "<style scoped>\n",
       "    .dataframe tbody tr th:only-of-type {\n",
       "        vertical-align: middle;\n",
       "    }\n",
       "\n",
       "    .dataframe tbody tr th {\n",
       "        vertical-align: top;\n",
       "    }\n",
       "\n",
       "    .dataframe thead th {\n",
       "        text-align: right;\n",
       "    }\n",
       "</style>\n",
       "<table border=\"1\" class=\"dataframe\">\n",
       "  <thead>\n",
       "    <tr style=\"text-align: right;\">\n",
       "      <th></th>\n",
       "      <th>letter_count</th>\n",
       "      <th>ratio</th>\n",
       "    </tr>\n",
       "    <tr>\n",
       "      <th>letter</th>\n",
       "      <th></th>\n",
       "      <th></th>\n",
       "    </tr>\n",
       "  </thead>\n",
       "  <tbody>\n",
       "    <tr>\n",
       "      <th>き</th>\n",
       "      <td>3</td>\n",
       "      <td>0.6</td>\n",
       "    </tr>\n",
       "    <tr>\n",
       "      <th>り</th>\n",
       "      <td>1</td>\n",
       "      <td>0.2</td>\n",
       "    </tr>\n",
       "    <tr>\n",
       "      <th>ん</th>\n",
       "      <td>1</td>\n",
       "      <td>0.2</td>\n",
       "    </tr>\n",
       "  </tbody>\n",
       "</table>\n",
       "</div>"
      ],
      "text/plain": [
       "        letter_count  ratio\n",
       "letter                     \n",
       "き                  3    0.6\n",
       "り                  1    0.2\n",
       "ん                  1    0.2"
      ]
     },
     "execution_count": 39,
     "metadata": {},
     "output_type": "execute_result"
    }
   ],
   "source": [
    "name = \"きききりん\"\n",
    "\n",
    "df = pd.DataFrame(list(name), columns = [\"letter\"])\n",
    "df[\"letter_count\"] = 1\n",
    "df = df.groupby(\"letter\").sum()\n",
    "df[\"ratio\"] = df[\"letter_count\"] / df[\"letter_count\"].sum()\n",
    "df"
   ]
  },
  {
   "cell_type": "code",
   "execution_count": 43,
   "id": "d4f49a5c-44d3-4667-bf44-8142633013f2",
   "metadata": {},
   "outputs": [
    {
     "data": {
      "image/png": "[encoded data removed]",
      "text/plain": [
       "<Figure size 640x480 with 1 Axes>"
      ]
     },
     "metadata": {},
     "output_type": "display_data"
    }
   ],
   "source": [
    "sns.barplot(data = df.reset_index(), x = \"letter_count\", y = \"letter\")\n",
    "plt.show()"
   ]
  },
  {
   "cell_type": "code",
   "execution_count": null,
   "id": "e612e068-e9cb-40c0-ba06-d7dcc8d20c4c",
   "metadata": {},
   "outputs": [],
   "source": []
  }
 ],
 "metadata": {
  "kernelspec": {
   "display_name": "2023.3",
   "language": "python",
   "name": "2023.3"
  },
  "language_info": {
   "codemirror_mode": {
    "name": "ipython",
    "version": 3
   },
   "file_extension": ".py",
   "mimetype": "text/x-python",
   "name": "python",
   "nbconvert_exporter": "python",
   "pygments_lexer": "ipython3",
   "version": "3.11.1"
  }
 },
 "nbformat": 4,
 "nbformat_minor": 5
}
